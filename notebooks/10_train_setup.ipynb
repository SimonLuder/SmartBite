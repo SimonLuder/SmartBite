{
 "cells": [
  {
   "cell_type": "code",
   "execution_count": null,
   "id": "8fda689b",
   "metadata": {},
   "outputs": [],
   "source": [
    "import sys\n",
    "import os\n",
    "\n",
    "# append src to path\n",
    "sys.path.append(os.path.abspath(os.path.join(os.path.dirname(__file__), '..', 'src')))\n",
    "from src import train\n"
   ]
  },
  {
   "cell_type": "code",
   "execution_count": null,
   "id": "4338cf7f",
   "metadata": {},
   "outputs": [],
   "source": []
  }
 ],
 "metadata": {
  "kernelspec": {
   "display_name": "mlops",
   "language": "python",
   "name": "python3"
  },
  "language_info": {
   "name": "python",
   "version": "3.10.0"
  }
 },
 "nbformat": 4,
 "nbformat_minor": 5
}
